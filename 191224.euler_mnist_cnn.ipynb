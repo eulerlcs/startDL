{
 "cells": [
  {
   "cell_type": "code",
   "execution_count": 1,
   "metadata": {},
   "outputs": [
    {
     "name": "stderr",
     "output_type": "stream",
     "text": [
      "Using TensorFlow backend.\n",
      "C:\\euler\\Anaconda3\\envs\\py36_django_mnist_git\\lib\\site-packages\\tensorflow\\python\\framework\\dtypes.py:523: FutureWarning: Passing (type, 1) or '1type' as a synonym of type is deprecated; in a future version of numpy, it will be understood as (type, (1,)) / '(1,)type'.\n",
      "  _np_qint8 = np.dtype([(\"qint8\", np.int8, 1)])\n",
      "C:\\euler\\Anaconda3\\envs\\py36_django_mnist_git\\lib\\site-packages\\tensorflow\\python\\framework\\dtypes.py:524: FutureWarning: Passing (type, 1) or '1type' as a synonym of type is deprecated; in a future version of numpy, it will be understood as (type, (1,)) / '(1,)type'.\n",
      "  _np_quint8 = np.dtype([(\"quint8\", np.uint8, 1)])\n",
      "C:\\euler\\Anaconda3\\envs\\py36_django_mnist_git\\lib\\site-packages\\tensorflow\\python\\framework\\dtypes.py:525: FutureWarning: Passing (type, 1) or '1type' as a synonym of type is deprecated; in a future version of numpy, it will be understood as (type, (1,)) / '(1,)type'.\n",
      "  _np_qint16 = np.dtype([(\"qint16\", np.int16, 1)])\n",
      "C:\\euler\\Anaconda3\\envs\\py36_django_mnist_git\\lib\\site-packages\\tensorflow\\python\\framework\\dtypes.py:526: FutureWarning: Passing (type, 1) or '1type' as a synonym of type is deprecated; in a future version of numpy, it will be understood as (type, (1,)) / '(1,)type'.\n",
      "  _np_quint16 = np.dtype([(\"quint16\", np.uint16, 1)])\n",
      "C:\\euler\\Anaconda3\\envs\\py36_django_mnist_git\\lib\\site-packages\\tensorflow\\python\\framework\\dtypes.py:527: FutureWarning: Passing (type, 1) or '1type' as a synonym of type is deprecated; in a future version of numpy, it will be understood as (type, (1,)) / '(1,)type'.\n",
      "  _np_qint32 = np.dtype([(\"qint32\", np.int32, 1)])\n",
      "C:\\euler\\Anaconda3\\envs\\py36_django_mnist_git\\lib\\site-packages\\tensorflow\\python\\framework\\dtypes.py:532: FutureWarning: Passing (type, 1) or '1type' as a synonym of type is deprecated; in a future version of numpy, it will be understood as (type, (1,)) / '(1,)type'.\n",
      "  np_resource = np.dtype([(\"resource\", np.ubyte, 1)])\n"
     ]
    }
   ],
   "source": [
    "import keras\n",
    "from keras.datasets import mnist\n",
    "from keras.models import Sequential\n",
    "from keras.layers import Dense, Dropout, Flatten, Conv2D, MaxPooling2D\n",
    "from keras.optimizers import RMSprop\n",
    "from keras.callbacks import Callback, CSVLogger\n",
    "from matplotlib import pyplot as plt\n",
    "from keras.utils.np_utils import to_categorical\n",
    "import argparse\n",
    "import os\n",
    "import cv2\n",
    "from PIL import Image\n",
    "import numpy as np"
   ]
  },
  {
   "cell_type": "code",
   "execution_count": 2,
   "metadata": {},
   "outputs": [],
   "source": [
    "def conver_to_mnist(convas_jpg):\n",
    "    # 画像が RGB ならグレースケールに変換する。(28, 28, 3) -> (28, 28)\n",
    "    img_gray = convas_jpg.convert(\"L\")\n",
    "    size = (28, 28)\n",
    "    img_gray = img_gray.resize(size)\n",
    "\n",
    "    # 行列を1次元に変換する(28, 28) -> (784) にする。\n",
    "    data = np.array(img_gray).reshape(28, 28, 1)\n",
    "    mnist_data = 255 - data\n",
    "\n",
    "    # img_mnist = Image.fromarray(mnist_data.reshape(28, -1))\n",
    "    # img_mnist.save(os.path.join(img_save_path, '{}_input_minist_gray_2.png'.format(rdint)))\n",
    "\n",
    "    mnist_data = mnist_data.astype('float32') / 255\n",
    "\n",
    "    return mnist_data\n",
    "\n",
    "# https://codeday.me/bug/20190505/1055129.html\n",
    "def load_data(img_dir):\n",
    "    # return np.array([cv2.imread(os.path.join(img_dir, img)).flatten() for img in os.listdir(img_dir) if img.endswith(\".jpg\")])\n",
    "\n",
    "    list_of_imgs = []\n",
    "    list_of_results = []\n",
    "    for file_name in os.listdir(img_dir):\n",
    "        full_name = os.path.join(img_dir, file_name)\n",
    "        if not full_name.endswith(\".jpg\"):\n",
    "            continue\n",
    "        img = Image.open(full_name)\n",
    "        if img is None:\n",
    "            print(\"Unable to read image\", full_name)\n",
    "            continue\n",
    "        \n",
    "        mnist_data = conver_to_mnist(img) \n",
    "        \n",
    "        list_of_imgs.append(mnist_data)\n",
    "        list_of_results.append(file_name[0])\n",
    "        \n",
    "    x = np.array(list_of_imgs)\n",
    "    y =  np.array(list_of_results)\n",
    "\n",
    "    return x, y"
   ]
  },
  {
   "cell_type": "code",
   "execution_count": 3,
   "metadata": {},
   "outputs": [
    {
     "name": "stdout",
     "output_type": "stream",
     "text": [
      "(1339, 28, 28, 1)\n",
      "(1339, 10)\n",
      "(343, 28, 28, 1)\n",
      "(343, 10)\n"
     ]
    }
   ],
   "source": [
    "train_image=\"train_image\"\n",
    "(x_train, y_train) = load_data(train_image)\n",
    "# 正解ラベルをone-hot-encoding\n",
    "y_train = to_categorical(y_train, 10)\n",
    "\n",
    "print(x_train.shape)\n",
    "print(y_train.shape)\n",
    "\n",
    "test_image=\"test_image\"\n",
    "(x_test, y_test) = load_data(test_image)\n",
    "# 正解ラベルをone-hot-encoding\n",
    "y_test = to_categorical(y_test, 10)\n",
    "\n",
    "print(x_test.shape)\n",
    "print(y_test.shape)"
   ]
  },
  {
   "cell_type": "code",
   "execution_count": 4,
   "metadata": {},
   "outputs": [
    {
     "name": "stdout",
     "output_type": "stream",
     "text": [
      "_________________________________________________________________\n",
      "Layer (type)                 Output Shape              Param #   \n",
      "=================================================================\n",
      "conv2d_1 (Conv2D)            (None, 26, 26, 32)        320       \n",
      "_________________________________________________________________\n",
      "max_pooling2d_1 (MaxPooling2 (None, 13, 13, 32)        0         \n",
      "_________________________________________________________________\n",
      "conv2d_2 (Conv2D)            (None, 11, 11, 64)        18496     \n",
      "_________________________________________________________________\n",
      "max_pooling2d_2 (MaxPooling2 (None, 5, 5, 64)          0         \n",
      "_________________________________________________________________\n",
      "dropout_1 (Dropout)          (None, 5, 5, 64)          0         \n",
      "_________________________________________________________________\n",
      "flatten_1 (Flatten)          (None, 1600)              0         \n",
      "_________________________________________________________________\n",
      "dense_1 (Dense)              (None, 128)               204928    \n",
      "_________________________________________________________________\n",
      "dropout_2 (Dropout)          (None, 128)               0         \n",
      "_________________________________________________________________\n",
      "dense_2 (Dense)              (None, 10)                1290      \n",
      "=================================================================\n",
      "Total params: 225,034\n",
      "Trainable params: 225,034\n",
      "Non-trainable params: 0\n",
      "_________________________________________________________________\n",
      "None\n"
     ]
    }
   ],
   "source": [
    "# create model\n",
    "model = Sequential()\n",
    "model.add(Conv2D(32, kernel_size=(3, 3), activation='relu', input_shape=(28, 28, 1)))\n",
    "model.add(MaxPooling2D(pool_size=(2, 2)))\n",
    "model.add(Conv2D(64, (3, 3), activation='relu'))\n",
    "model.add(MaxPooling2D(pool_size=(2, 2)))\n",
    "model.add(Dropout(0.25))\n",
    "model.add(Flatten())\n",
    "model.add(Dense(128, activation='relu'))\n",
    "model.add(Dropout(0.5))\n",
    "model.add(Dense(10, activation='softmax'))\n",
    "\n",
    "model.compile(loss='categorical_crossentropy',\n",
    "              optimizer=RMSprop(),\n",
    "              metrics=['accuracy'])\n",
    "\n",
    "print(model.summary())"
   ]
  },
  {
   "cell_type": "code",
   "execution_count": 5,
   "metadata": {},
   "outputs": [
    {
     "name": "stdout",
     "output_type": "stream",
     "text": [
      "Epoch 1/40\n",
      "1339/1339 [==============================] - 2s 1ms/step - loss: 2.1747 - acc: 0.2061\n",
      "Epoch 2/40\n",
      "1339/1339 [==============================] - 1s 783us/step - loss: 1.8166 - acc: 0.3689\n",
      "Epoch 3/40\n",
      "1339/1339 [==============================] - 1s 803us/step - loss: 1.5056 - acc: 0.5086\n",
      "Epoch 4/40\n",
      "1339/1339 [==============================] - 1s 793us/step - loss: 1.3255 - acc: 0.5713\n",
      "Epoch 5/40\n",
      "1339/1339 [==============================] - 1s 685us/step - loss: 1.1506 - acc: 0.6288\n",
      "Epoch 6/40\n",
      "1339/1339 [==============================] - 1s 722us/step - loss: 1.0177 - acc: 0.6572\n",
      "Epoch 7/40\n",
      "1339/1339 [==============================] - 1s 721us/step - loss: 0.9351 - acc: 0.6833\n",
      "Epoch 8/40\n",
      "1339/1339 [==============================] - 1s 749us/step - loss: 0.8516 - acc: 0.7162\n",
      "Epoch 9/40\n",
      "1339/1339 [==============================] - 1s 808us/step - loss: 0.7507 - acc: 0.7453\n",
      "Epoch 10/40\n",
      "1339/1339 [==============================] - 1s 817us/step - loss: 0.7398 - acc: 0.7535\n",
      "Epoch 11/40\n",
      "1339/1339 [==============================] - 1s 835us/step - loss: 0.6665 - acc: 0.7827\n",
      "Epoch 12/40\n",
      "1339/1339 [==============================] - 1s 832us/step - loss: 0.6159 - acc: 0.7924\n",
      "Epoch 13/40\n",
      "1339/1339 [==============================] - 1s 834us/step - loss: 0.5969 - acc: 0.8185\n",
      "Epoch 14/40\n",
      "1339/1339 [==============================] - 1s 821us/step - loss: 0.5232 - acc: 0.8394\n",
      "Epoch 15/40\n",
      "1339/1339 [==============================] - 1s 823us/step - loss: 0.5141 - acc: 0.8223\n",
      "Epoch 16/40\n",
      "1339/1339 [==============================] - 1s 827us/step - loss: 0.5061 - acc: 0.8327\n",
      "Epoch 17/40\n",
      "1339/1339 [==============================] - 1s 817us/step - loss: 0.5128 - acc: 0.8364\n",
      "Epoch 18/40\n",
      "1339/1339 [==============================] - 1s 826us/step - loss: 0.4193 - acc: 0.8633\n",
      "Epoch 19/40\n",
      "1339/1339 [==============================] - 1s 818us/step - loss: 0.4659 - acc: 0.8394\n",
      "Epoch 20/40\n",
      "1339/1339 [==============================] - 1s 819us/step - loss: 0.3780 - acc: 0.8723\n",
      "Epoch 21/40\n",
      "1339/1339 [==============================] - 1s 814us/step - loss: 0.3724 - acc: 0.8715\n",
      "Epoch 22/40\n",
      "1339/1339 [==============================] - 1s 819us/step - loss: 0.3486 - acc: 0.8850\n",
      "Epoch 23/40\n",
      "1339/1339 [==============================] - 1s 792us/step - loss: 0.3934 - acc: 0.8730\n",
      "Epoch 24/40\n",
      "1339/1339 [==============================] - 1s 800us/step - loss: 0.3122 - acc: 0.9014\n",
      "Epoch 25/40\n",
      "1339/1339 [==============================] - 1s 774us/step - loss: 0.3280 - acc: 0.8865\n",
      "Epoch 26/40\n",
      "1339/1339 [==============================] - 1s 810us/step - loss: 0.2837 - acc: 0.9037\n",
      "Epoch 27/40\n",
      "1339/1339 [==============================] - 1s 769us/step - loss: 0.2816 - acc: 0.9111\n",
      "Epoch 28/40\n",
      "1339/1339 [==============================] - 1s 782us/step - loss: 0.2620 - acc: 0.9081\n",
      "Epoch 29/40\n",
      "1339/1339 [==============================] - 1s 769us/step - loss: 0.2555 - acc: 0.9096\n",
      "Epoch 30/40\n",
      "1339/1339 [==============================] - 1s 759us/step - loss: 0.2273 - acc: 0.9320\n",
      "Epoch 31/40\n",
      "1339/1339 [==============================] - 1s 787us/step - loss: 0.2339 - acc: 0.9231\n",
      "Epoch 32/40\n",
      "1339/1339 [==============================] - 1s 847us/step - loss: 0.2295 - acc: 0.9201\n",
      "Epoch 33/40\n",
      "1339/1339 [==============================] - 1s 853us/step - loss: 0.2471 - acc: 0.9178\n",
      "Epoch 34/40\n",
      "1339/1339 [==============================] - 1s 869us/step - loss: 0.2021 - acc: 0.9343\n",
      "Epoch 35/40\n",
      "1339/1339 [==============================] - 1s 857us/step - loss: 0.1949 - acc: 0.9328\n",
      "Epoch 36/40\n",
      "1339/1339 [==============================] - 1s 843us/step - loss: 0.1672 - acc: 0.9470\n",
      "Epoch 37/40\n",
      "1339/1339 [==============================] - 1s 831us/step - loss: 0.1823 - acc: 0.9358\n",
      "Epoch 38/40\n",
      "1339/1339 [==============================] - 1s 839us/step - loss: 0.1788 - acc: 0.9388\n",
      "Epoch 39/40\n",
      "1339/1339 [==============================] - 1s 841us/step - loss: 0.1473 - acc: 0.9544\n",
      "Epoch 40/40\n",
      "1339/1339 [==============================] - 1s 827us/step - loss: 0.1458 - acc: 0.9500\n"
     ]
    },
    {
     "data": {
      "text/plain": [
       "<keras.callbacks.History at 0x1f2afb70c88>"
      ]
     },
     "execution_count": 5,
     "metadata": {},
     "output_type": "execute_result"
    }
   ],
   "source": [
    "# train\n",
    "model.fit(x_train, y_train,\n",
    "                    batch_size=128, \n",
    "                    epochs=35,\n",
    "                    verbose=1)"
   ]
  },
  {
   "cell_type": "markdown",
   "metadata": {},
   "source": [
    "### 4.モデルを評価する\n",
    "score = model.evaluate(x_test, y_test, verbose=0)\n",
    "print(score)"
   ]
  },
  {
   "cell_type": "code",
   "execution_count": 7,
   "metadata": {},
   "outputs": [],
   "source": [
    "model.save(\"eulerlcs_cnn.h5\")"
   ]
  }
 ],
 "metadata": {
  "kernelspec": {
   "display_name": "Python 3",
   "language": "python",
   "name": "python3"
  },
  "language_info": {
   "codemirror_mode": {
    "name": "ipython",
    "version": 3
   },
   "file_extension": ".py",
   "mimetype": "text/x-python",
   "name": "python",
   "nbconvert_exporter": "python",
   "pygments_lexer": "ipython3",
   "version": "3.6.9"
  }
 },
 "nbformat": 4,
 "nbformat_minor": 2
}
