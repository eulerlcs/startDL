{
 "cells": [
  {
   "cell_type": "code",
   "execution_count": 1,
   "metadata": {},
   "outputs": [
    {
     "name": "stderr",
     "output_type": "stream",
     "text": [
      "Using TensorFlow backend.\n",
      "C:\\euler\\Anaconda3\\envs\\py36_django_mnist_git\\lib\\site-packages\\tensorflow\\python\\framework\\dtypes.py:523: FutureWarning: Passing (type, 1) or '1type' as a synonym of type is deprecated; in a future version of numpy, it will be understood as (type, (1,)) / '(1,)type'.\n",
      "  _np_qint8 = np.dtype([(\"qint8\", np.int8, 1)])\n",
      "C:\\euler\\Anaconda3\\envs\\py36_django_mnist_git\\lib\\site-packages\\tensorflow\\python\\framework\\dtypes.py:524: FutureWarning: Passing (type, 1) or '1type' as a synonym of type is deprecated; in a future version of numpy, it will be understood as (type, (1,)) / '(1,)type'.\n",
      "  _np_quint8 = np.dtype([(\"quint8\", np.uint8, 1)])\n",
      "C:\\euler\\Anaconda3\\envs\\py36_django_mnist_git\\lib\\site-packages\\tensorflow\\python\\framework\\dtypes.py:525: FutureWarning: Passing (type, 1) or '1type' as a synonym of type is deprecated; in a future version of numpy, it will be understood as (type, (1,)) / '(1,)type'.\n",
      "  _np_qint16 = np.dtype([(\"qint16\", np.int16, 1)])\n",
      "C:\\euler\\Anaconda3\\envs\\py36_django_mnist_git\\lib\\site-packages\\tensorflow\\python\\framework\\dtypes.py:526: FutureWarning: Passing (type, 1) or '1type' as a synonym of type is deprecated; in a future version of numpy, it will be understood as (type, (1,)) / '(1,)type'.\n",
      "  _np_quint16 = np.dtype([(\"quint16\", np.uint16, 1)])\n",
      "C:\\euler\\Anaconda3\\envs\\py36_django_mnist_git\\lib\\site-packages\\tensorflow\\python\\framework\\dtypes.py:527: FutureWarning: Passing (type, 1) or '1type' as a synonym of type is deprecated; in a future version of numpy, it will be understood as (type, (1,)) / '(1,)type'.\n",
      "  _np_qint32 = np.dtype([(\"qint32\", np.int32, 1)])\n",
      "C:\\euler\\Anaconda3\\envs\\py36_django_mnist_git\\lib\\site-packages\\tensorflow\\python\\framework\\dtypes.py:532: FutureWarning: Passing (type, 1) or '1type' as a synonym of type is deprecated; in a future version of numpy, it will be understood as (type, (1,)) / '(1,)type'.\n",
      "  np_resource = np.dtype([(\"resource\", np.ubyte, 1)])\n"
     ]
    }
   ],
   "source": [
    "\"\"\"\n",
    "    copy from https://qiita.com/wataoka/items/5c6766d3e1c674d61425\n",
    "\"\"\"\n",
    "from keras.datasets import mnist\n",
    "from keras.layers import Dense\n",
    "from keras.models import Sequential\n",
    "from keras.utils.np_utils import to_categorical\n",
    "import numpy as np\n",
    "import os\n",
    "import cv2\n",
    "from PIL import Image"
   ]
  },
  {
   "cell_type": "code",
   "execution_count": 8,
   "metadata": {},
   "outputs": [],
   "source": [
    "def conver_to_mnist(convas_jpg):\n",
    "    # 画像が RGB ならグレースケールに変換する。(28, 28, 3) -> (28, 28)\n",
    "    img_gray = convas_jpg.convert(\"L\")\n",
    "    size = (28, 28)\n",
    "    img_gray = img_gray.resize(size)\n",
    "\n",
    "    # 行列を1次元に変換する(28, 28) -> (28, 28, 1) にする。\n",
    "    data = np.array(img_gray).reshape(28, 28, 1)\n",
    "    mnist_data = 255 - data\n",
    "\n",
    "    # img_mnist = Image.fromarray(mnist_data.reshape(28, -1))\n",
    "    # img_mnist.save(os.path.join(img_save_path, '{}_input_minist_gray_2.png'.format(rdint)))\n",
    "\n",
    "    mnist_data = mnist_data.astype('float32') / 255\n",
    "\n",
    "    return mnist_data\n",
    "\n",
    "# https://codeday.me/bug/20190505/1055129.html\n",
    "def load_data(img_dir):\n",
    "    # return np.array([cv2.imread(os.path.join(img_dir, img)).flatten() for img in os.listdir(img_dir) if img.endswith(\".jpg\")])\n",
    "\n",
    "    list_of_imgs = []\n",
    "    list_of_results = []\n",
    "    for file_name in os.listdir(img_dir):\n",
    "        full_name = os.path.join(img_dir, file_name)\n",
    "        if not full_name.endswith(\".jpg\"):\n",
    "            continue\n",
    "        img = Image.open(full_name)\n",
    "        if img is None:\n",
    "            print(\"Unable to read image\", full_name)\n",
    "            continue\n",
    "        \n",
    "        mnist_data = conver_to_mnist(img)\n",
    "        list_of_imgs.append(mnist_data)\n",
    "        list_of_results.append(file_name[0])\n",
    "        \n",
    "    x = np.array(list_of_imgs)\n",
    "    y =  np.array(list_of_results)\n",
    "\n",
    "    return x, y"
   ]
  },
  {
   "cell_type": "code",
   "execution_count": 15,
   "metadata": {},
   "outputs": [
    {
     "name": "stdout",
     "output_type": "stream",
     "text": [
      "(1339, 784)\n",
      "(1339, 10)\n",
      "(343, 784)\n",
      "(343, 10)\n"
     ]
    }
   ],
   "source": [
    "train_image=\"train_image\"\n",
    "(x_train, y_train) = load_data(train_image)\n",
    "x_train = x_train.reshape(x_train.shape[0], -1)\n",
    "# 正解ラベルをone-hot-encoding\n",
    "y_train = to_categorical(y_train, 10)\n",
    "\n",
    "print(x_train.shape)\n",
    "print(y_train.shape)\n",
    "\n",
    "test_image=\"test_image\"\n",
    "(x_test, y_test) = load_data(test_image)\n",
    "x_test = x_test.reshape(x_test.shape[0], -1)\n",
    "# 正解ラベルをone-hot-encoding\n",
    "y_test = to_categorical(y_test, 10)\n",
    "\n",
    "print(x_test.shape)\n",
    "print(y_test.shape)"
   ]
  },
  {
   "cell_type": "code",
   "execution_count": 16,
   "metadata": {},
   "outputs": [
    {
     "name": "stdout",
     "output_type": "stream",
     "text": [
      "_________________________________________________________________\n",
      "Layer (type)                 Output Shape              Param #   \n",
      "=================================================================\n",
      "dense_9 (Dense)              (None, 128)               100480    \n",
      "_________________________________________________________________\n",
      "dense_10 (Dense)             (None, 64)                8256      \n",
      "_________________________________________________________________\n",
      "dense_11 (Dense)             (None, 32)                2080      \n",
      "_________________________________________________________________\n",
      "dense_12 (Dense)             (None, 10)                330       \n",
      "=================================================================\n",
      "Total params: 111,146\n",
      "Trainable params: 111,146\n",
      "Non-trainable params: 0\n",
      "_________________________________________________________________\n",
      "None\n"
     ]
    }
   ],
   "source": [
    "# 2.モデルを構築\n",
    "model = Sequential()\n",
    "model.add(Dense(128, activation='relu', input_dim=784))\n",
    "model.add(Dense(64, activation='sigmoid'))\n",
    "model.add(Dense(32, activation='relu'))\n",
    "model.add(Dense(10, activation='softmax'))\n",
    "\n",
    "model.compile(optimizer='rmsprop',\n",
    "              loss='categorical_crossentropy',\n",
    "              metrics=['accuracy'])\n",
    "\n",
    "print(model.summary())"
   ]
  },
  {
   "cell_type": "code",
   "execution_count": 17,
   "metadata": {},
   "outputs": [
    {
     "name": "stdout",
     "output_type": "stream",
     "text": [
      "Epoch 1/70\n",
      "1339/1339 [==============================] - 0s 154us/step - loss: 2.2084 - acc: 0.2353\n",
      "Epoch 2/70\n",
      "1339/1339 [==============================] - 0s 24us/step - loss: 1.9511 - acc: 0.4324\n",
      "Epoch 3/70\n",
      "1339/1339 [==============================] - 0s 25us/step - loss: 1.7649 - acc: 0.4996\n",
      "Epoch 4/70\n",
      "1339/1339 [==============================] - 0s 28us/step - loss: 1.6156 - acc: 0.5541\n",
      "Epoch 5/70\n",
      "1339/1339 [==============================] - 0s 27us/step - loss: 1.4837 - acc: 0.5840\n",
      "Epoch 6/70\n",
      "1339/1339 [==============================] - 0s 26us/step - loss: 1.3710 - acc: 0.6318\n",
      "Epoch 7/70\n",
      "1339/1339 [==============================] - 0s 27us/step - loss: 1.2569 - acc: 0.6587\n",
      "Epoch 8/70\n",
      "1339/1339 [==============================] - 0s 27us/step - loss: 1.1586 - acc: 0.6938\n",
      "Epoch 9/70\n",
      "1339/1339 [==============================] - 0s 27us/step - loss: 1.0664 - acc: 0.7252\n",
      "Epoch 10/70\n",
      "1339/1339 [==============================] - 0s 28us/step - loss: 0.9926 - acc: 0.7341\n",
      "Epoch 11/70\n",
      "1339/1339 [==============================] - 0s 27us/step - loss: 0.9006 - acc: 0.7730\n",
      "Epoch 12/70\n",
      "1339/1339 [==============================] - 0s 25us/step - loss: 0.8357 - acc: 0.7939\n",
      "Epoch 13/70\n",
      "1339/1339 [==============================] - 0s 25us/step - loss: 0.7547 - acc: 0.8163\n",
      "Epoch 14/70\n",
      "1339/1339 [==============================] - 0s 27us/step - loss: 0.6921 - acc: 0.8290\n",
      "Epoch 15/70\n",
      "1339/1339 [==============================] - 0s 24us/step - loss: 0.6243 - acc: 0.8588\n",
      "Epoch 16/70\n",
      "1339/1339 [==============================] - 0s 23us/step - loss: 0.5667 - acc: 0.8671\n",
      "Epoch 17/70\n",
      "1339/1339 [==============================] - 0s 25us/step - loss: 0.5064 - acc: 0.8850\n",
      "Epoch 18/70\n",
      "1339/1339 [==============================] - 0s 25us/step - loss: 0.4601 - acc: 0.8984\n",
      "Epoch 19/70\n",
      "1339/1339 [==============================] - 0s 23us/step - loss: 0.4051 - acc: 0.9171\n",
      "Epoch 20/70\n",
      "1339/1339 [==============================] - 0s 23us/step - loss: 0.3621 - acc: 0.9283\n",
      "Epoch 21/70\n",
      "1339/1339 [==============================] - 0s 25us/step - loss: 0.3150 - acc: 0.9380\n",
      "Epoch 22/70\n",
      "1339/1339 [==============================] - 0s 23us/step - loss: 0.2818 - acc: 0.9485\n",
      "Epoch 23/70\n",
      "1339/1339 [==============================] - 0s 25us/step - loss: 0.2358 - acc: 0.9642\n",
      "Epoch 24/70\n",
      "1339/1339 [==============================] - 0s 27us/step - loss: 0.2060 - acc: 0.9686\n",
      "Epoch 25/70\n",
      "1339/1339 [==============================] - 0s 25us/step - loss: 0.1752 - acc: 0.9806\n",
      "Epoch 26/70\n",
      "1339/1339 [==============================] - 0s 27us/step - loss: 0.1526 - acc: 0.9843\n",
      "Epoch 27/70\n",
      "1339/1339 [==============================] - 0s 25us/step - loss: 0.1282 - acc: 0.9925\n",
      "Epoch 28/70\n",
      "1339/1339 [==============================] - 0s 25us/step - loss: 0.1055 - acc: 0.9903\n",
      "Epoch 29/70\n",
      "1339/1339 [==============================] - 0s 26us/step - loss: 0.0961 - acc: 0.9925\n",
      "Epoch 30/70\n",
      "1339/1339 [==============================] - 0s 25us/step - loss: 0.0703 - acc: 0.9955\n",
      "Epoch 31/70\n",
      "1339/1339 [==============================] - 0s 26us/step - loss: 0.0706 - acc: 0.9955\n",
      "Epoch 32/70\n",
      "1339/1339 [==============================] - 0s 25us/step - loss: 0.0486 - acc: 0.9993\n",
      "Epoch 33/70\n",
      "1339/1339 [==============================] - 0s 25us/step - loss: 0.0410 - acc: 0.9985\n",
      "Epoch 34/70\n",
      "1339/1339 [==============================] - 0s 24us/step - loss: 0.0383 - acc: 0.9978\n",
      "Epoch 35/70\n",
      "1339/1339 [==============================] - 0s 25us/step - loss: 0.0255 - acc: 0.9993\n",
      "Epoch 36/70\n",
      "1339/1339 [==============================] - 0s 25us/step - loss: 0.0238 - acc: 1.0000\n",
      "Epoch 37/70\n",
      "1339/1339 [==============================] - 0s 24us/step - loss: 0.0178 - acc: 1.0000\n",
      "Epoch 38/70\n",
      "1339/1339 [==============================] - 0s 25us/step - loss: 0.0147 - acc: 1.0000\n",
      "Epoch 39/70\n",
      "1339/1339 [==============================] - 0s 24us/step - loss: 0.0102 - acc: 1.0000\n",
      "Epoch 40/70\n",
      "1339/1339 [==============================] - 0s 25us/step - loss: 0.0149 - acc: 1.0000\n",
      "Epoch 41/70\n",
      "1339/1339 [==============================] - 0s 25us/step - loss: 0.0059 - acc: 1.0000\n",
      "Epoch 42/70\n",
      "1339/1339 [==============================] - 0s 26us/step - loss: 0.0049 - acc: 1.0000\n",
      "Epoch 43/70\n",
      "1339/1339 [==============================] - 0s 26us/step - loss: 0.0052 - acc: 1.0000\n",
      "Epoch 44/70\n",
      "1339/1339 [==============================] - 0s 25us/step - loss: 0.0032 - acc: 1.0000\n",
      "Epoch 45/70\n",
      "1339/1339 [==============================] - 0s 24us/step - loss: 0.0046 - acc: 1.0000\n",
      "Epoch 46/70\n",
      "1339/1339 [==============================] - 0s 25us/step - loss: 0.0019 - acc: 1.0000\n",
      "Epoch 47/70\n",
      "1339/1339 [==============================] - 0s 25us/step - loss: 0.0016 - acc: 1.0000\n",
      "Epoch 48/70\n",
      "1339/1339 [==============================] - 0s 23us/step - loss: 0.0017 - acc: 1.0000\n",
      "Epoch 49/70\n",
      "1339/1339 [==============================] - 0s 23us/step - loss: 0.0014 - acc: 1.0000\n",
      "Epoch 50/70\n",
      "1339/1339 [==============================] - 0s 24us/step - loss: 0.0011 - acc: 1.0000\n",
      "Epoch 51/70\n",
      "1339/1339 [==============================] - 0s 22us/step - loss: 5.4923e-04 - acc: 1.0000\n",
      "Epoch 52/70\n",
      "1339/1339 [==============================] - 0s 24us/step - loss: 4.0434e-04 - acc: 1.0000\n",
      "Epoch 53/70\n",
      "1339/1339 [==============================] - 0s 23us/step - loss: 0.0056 - acc: 0.9978\n",
      "Epoch 54/70\n",
      "1339/1339 [==============================] - 0s 28us/step - loss: 3.2422e-04 - acc: 1.0000\n",
      "Epoch 55/70\n",
      "1339/1339 [==============================] - 0s 25us/step - loss: 2.5871e-04 - acc: 1.0000\n",
      "Epoch 56/70\n",
      "1339/1339 [==============================] - 0s 21us/step - loss: 2.2387e-04 - acc: 1.0000\n",
      "Epoch 57/70\n",
      "1339/1339 [==============================] - 0s 25us/step - loss: 1.8986e-04 - acc: 1.0000\n",
      "Epoch 58/70\n",
      "1339/1339 [==============================] - 0s 23us/step - loss: 1.6736e-04 - acc: 1.0000\n",
      "Epoch 59/70\n",
      "1339/1339 [==============================] - 0s 22us/step - loss: 1.2247e-04 - acc: 1.0000\n",
      "Epoch 60/70\n",
      "1339/1339 [==============================] - 0s 24us/step - loss: 0.0020 - acc: 0.9985\n",
      "Epoch 61/70\n",
      "1339/1339 [==============================] - 0s 24us/step - loss: 1.0312e-04 - acc: 1.0000\n",
      "Epoch 62/70\n",
      "1339/1339 [==============================] - 0s 25us/step - loss: 7.9702e-05 - acc: 1.0000\n",
      "Epoch 63/70\n",
      "1339/1339 [==============================] - 0s 24us/step - loss: 6.7209e-05 - acc: 1.0000\n",
      "Epoch 64/70\n",
      "1339/1339 [==============================] - 0s 25us/step - loss: 5.6634e-05 - acc: 1.0000\n",
      "Epoch 65/70\n",
      "1339/1339 [==============================] - 0s 25us/step - loss: 5.0170e-05 - acc: 1.0000\n",
      "Epoch 66/70\n",
      "1339/1339 [==============================] - 0s 25us/step - loss: 3.7937e-05 - acc: 1.0000\n",
      "Epoch 67/70\n",
      "1339/1339 [==============================] - 0s 24us/step - loss: 8.0140e-04 - acc: 1.0000\n",
      "Epoch 68/70\n",
      "1339/1339 [==============================] - 0s 26us/step - loss: 3.8401e-05 - acc: 1.0000\n",
      "Epoch 69/70\n",
      "1339/1339 [==============================] - 0s 22us/step - loss: 3.0622e-05 - acc: 1.0000\n",
      "Epoch 70/70\n",
      "1339/1339 [==============================] - 0s 22us/step - loss: 2.6434e-05 - acc: 1.0000\n"
     ]
    },
    {
     "data": {
      "text/plain": [
       "<keras.callbacks.History at 0x2d382062d68>"
      ]
     },
     "execution_count": 17,
     "metadata": {},
     "output_type": "execute_result"
    }
   ],
   "source": [
    "# 3.モデルにデータを学習させる\n",
    "model.fit(x_train, y_train,\n",
    "          batch_size=100,\n",
    "          epochs=70,\n",
    "          verbose=1)\n"
   ]
  },
  {
   "cell_type": "code",
   "execution_count": 18,
   "metadata": {},
   "outputs": [
    {
     "name": "stdout",
     "output_type": "stream",
     "text": [
      "343/343 [==============================] - 0s 175us/step\n",
      "[1.7635526497231975, 0.7201166175544783]\n"
     ]
    }
   ],
   "source": [
    "# 4.モデルを評価する\n",
    "score = model.evaluate(x_test, y_test)\n",
    "print(score)"
   ]
  },
  {
   "cell_type": "code",
   "execution_count": 19,
   "metadata": {},
   "outputs": [],
   "source": [
    "model.save(\"eulerlcs_ann.h5\")"
   ]
  },
  {
   "cell_type": "code",
   "execution_count": null,
   "metadata": {},
   "outputs": [],
   "source": []
  }
 ],
 "metadata": {
  "kernelspec": {
   "display_name": "Python 3",
   "language": "python",
   "name": "python3"
  },
  "language_info": {
   "codemirror_mode": {
    "name": "ipython",
    "version": 3
   },
   "file_extension": ".py",
   "mimetype": "text/x-python",
   "name": "python",
   "nbconvert_exporter": "python",
   "pygments_lexer": "ipython3",
   "version": "3.6.9"
  }
 },
 "nbformat": 4,
 "nbformat_minor": 2
}
